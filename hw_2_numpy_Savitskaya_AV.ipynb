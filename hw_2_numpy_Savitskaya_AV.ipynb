{
  "nbformat": 4,
  "nbformat_minor": 0,
  "metadata": {
    "kernelspec": {
      "display_name": "Python 3",
      "language": "python",
      "name": "python3"
    },
    "language_info": {
      "codemirror_mode": {
        "name": "ipython",
        "version": 3
      },
      "file_extension": ".py",
      "mimetype": "text/x-python",
      "name": "python",
      "nbconvert_exporter": "python",
      "pygments_lexer": "ipython3",
      "version": "3.6.8"
    },
    "colab": {
      "name": "hw_2_numpy_Savitskaya_AV.ipynb",
      "provenance": [],
      "collapsed_sections": [],
      "include_colab_link": true
    }
  },
  "cells": [
    {
      "cell_type": "markdown",
      "metadata": {
        "id": "view-in-github",
        "colab_type": "text"
      },
      "source": [
        "<a href=\"https://colab.research.google.com/github/Savitanna/sberbank_data_analysis_06_07_21/blob/master/hw_2_numpy_Savitskaya_AV.ipynb\" target=\"_parent\"><img src=\"https://colab.research.google.com/assets/colab-badge.svg\" alt=\"Open In Colab\"/></a>"
      ]
    },
    {
      "cell_type": "code",
      "metadata": {
        "id": "sau84bZfKVHn"
      },
      "source": [
        "import pandas as pd\n",
        "import numpy as np"
      ],
      "execution_count": 128,
      "outputs": []
    },
    {
      "cell_type": "markdown",
      "metadata": {
        "id": "GoPfeS0JBEbn"
      },
      "source": [
        "### Упражнение 1\n",
        "\n",
        "На одном графике изобразите время затраченное на вычисление с использованием массивов numpy и стандартных списков в питоне.  \n",
        "Для более точных результатов замеряйте время выполнения функции несколько раз и усредняйте. \n",
        "* Используйте функцию `z = 2*x**2 + 4*y`\n",
        "* Перемножение матриц размера n на n"
      ]
    },
    {
      "cell_type": "markdown",
      "metadata": {
        "id": "Z2btvdSVBEbt"
      },
      "source": [
        "### Упражнение 2\n",
        "* Создайте массив чисел от 2 до 75. Выведите только нечётные. \n",
        "* Присвойте нечётным числам этого массива значение -1.\n",
        "\n"
      ]
    },
    {
      "cell_type": "code",
      "metadata": {
        "colab": {
          "base_uri": "https://localhost:8080/"
        },
        "id": "38fCLrtpKnel",
        "outputId": "61989a4c-df31-47f4-e5be-2c918e17746c"
      },
      "source": [
        "a = np.arange(2, 75+1, 1)\n",
        "b=list(filter(lambda x: x % 2 != 0, a))\n",
        "print('a = {}\\nb = {}'.format(a, b))"
      ],
      "execution_count": 37,
      "outputs": [
        {
          "output_type": "stream",
          "text": [
            "a = [ 2  3  4  5  6  7  8  9 10 11 12 13 14 15 16 17 18 19 20 21 22 23 24 25\n",
            " 26 27 28 29 30 31 32 33 34 35 36 37 38 39 40 41 42 43 44 45 46 47 48 49\n",
            " 50 51 52 53 54 55 56 57 58 59 60 61 62 63 64 65 66 67 68 69 70 71 72 73\n",
            " 74 75]\n",
            "b = [3, 5, 7, 9, 11, 13, 15, 17, 19, 21, 23, 25, 27, 29, 31, 33, 35, 37, 39, 41, 43, 45, 47, 49, 51, 53, 55, 57, 59, 61, 63, 65, 67, 69, 71, 73, 75]\n"
          ],
          "name": "stdout"
        }
      ]
    },
    {
      "cell_type": "code",
      "metadata": {
        "colab": {
          "base_uri": "https://localhost:8080/"
        },
        "id": "Zb2xuuYZRfzQ",
        "outputId": "cd67fbe6-841c-43e5-91ea-73107504fed4"
      },
      "source": [
        "c=a[np.where(a % 2 != 0)]\n",
        "c\n",
        "a[np.where(a % 2 != 0)]=-1\n",
        "print('c = {}\\na = {}'.format(c, a))"
      ],
      "execution_count": 38,
      "outputs": [
        {
          "output_type": "stream",
          "text": [
            "c = [ 3  5  7  9 11 13 15 17 19 21 23 25 27 29 31 33 35 37 39 41 43 45 47 49\n",
            " 51 53 55 57 59 61 63 65 67 69 71 73 75]\n",
            "a = [ 2 -1  4 -1  6 -1  8 -1 10 -1 12 -1 14 -1 16 -1 18 -1 20 -1 22 -1 24 -1\n",
            " 26 -1 28 -1 30 -1 32 -1 34 -1 36 -1 38 -1 40 -1 42 -1 44 -1 46 -1 48 -1\n",
            " 50 -1 52 -1 54 -1 56 -1 58 -1 60 -1 62 -1 64 -1 66 -1 68 -1 70 -1 72 -1\n",
            " 74 -1]\n"
          ],
          "name": "stdout"
        }
      ]
    },
    {
      "cell_type": "markdown",
      "metadata": {
        "id": "pbSX9i_fBEbu"
      },
      "source": [
        "### Упражнение 3\n",
        "\n",
        "* Найдите в документации функцию, которая удаляет из одного массива элементы, которые есть в другом. \n",
        "* Приведите примеры использования."
      ]
    },
    {
      "cell_type": "markdown",
      "metadata": {
        "id": "pMu8c3fABEbv"
      },
      "source": [
        "### Упражнение 4\n",
        "\n",
        "* Создайте случайную квадратную матрицу случайного размера от 10 до 100. \n",
        "* Найдите максимум и сумму элементов.\n",
        "* Поделите каждый элемент матрицы на максимум.\n",
        "* Отнимите от каждой строки матрицы среднее по строке.\n",
        "* Замените максимальное значение на -1."
      ]
    },
    {
      "cell_type": "code",
      "metadata": {
        "colab": {
          "base_uri": "https://localhost:8080/"
        },
        "id": "fE7i0JxyHolv",
        "outputId": "6bf8b307-5af4-489b-8278-8f17f28ae7d5"
      },
      "source": [
        "size_m1=10\n",
        "size_m2=100\n",
        "size_matrix=np.random.randint(size_m1, size_m2+1)\n",
        "z1=np.random.random((size_matrix,size_matrix))\n",
        "z1"
      ],
      "execution_count": 41,
      "outputs": [
        {
          "output_type": "execute_result",
          "data": {
            "text/plain": [
              "array([[0.51795504, 0.69490676, 0.8225551 , ..., 0.4962851 , 0.66018848,\n",
              "        0.52058344],\n",
              "       [0.31648867, 0.13308136, 0.87333896, ..., 0.21371502, 0.76313134,\n",
              "        0.17846122],\n",
              "       [0.65448889, 0.67551046, 0.47970325, ..., 0.12054742, 0.10439498,\n",
              "        0.20275478],\n",
              "       ...,\n",
              "       [0.66360872, 0.17860604, 0.81580143, ..., 0.72461378, 0.91494919,\n",
              "        0.95157776],\n",
              "       [0.8667537 , 0.06794839, 0.63302293, ..., 0.23454715, 0.57238345,\n",
              "        0.84519559],\n",
              "       [0.72611181, 0.79066046, 0.07777627, ..., 0.24792658, 0.00571732,\n",
              "        0.11930753]])"
            ]
          },
          "metadata": {
            "tags": []
          },
          "execution_count": 41
        }
      ]
    },
    {
      "cell_type": "code",
      "metadata": {
        "colab": {
          "base_uri": "https://localhost:8080/"
        },
        "id": "olu6nO3YM_lT",
        "outputId": "51f15633-7fb4-463e-d4c4-ad02af99495a"
      },
      "source": [
        "z1_max=z1.max()\n",
        "z1_mean=z1.sum()\n",
        "print('z1_max = {}\\nz1_mean = {}'.format(z1_max, z1_mean))"
      ],
      "execution_count": 42,
      "outputs": [
        {
          "output_type": "stream",
          "text": [
            "z1_max = 0.9998728727723023\n",
            "z1_mean = 4000.1246224983834\n"
          ],
          "name": "stdout"
        }
      ]
    },
    {
      "cell_type": "code",
      "metadata": {
        "colab": {
          "base_uri": "https://localhost:8080/"
        },
        "id": "dHIAJc2XOcdQ",
        "outputId": "56da6c2b-19b2-4228-e856-f57b60564a78"
      },
      "source": [
        "z2=z1/z1_max\n",
        "z2"
      ],
      "execution_count": 43,
      "outputs": [
        {
          "output_type": "execute_result",
          "data": {
            "text/plain": [
              "array([[0.5180209 , 0.69499511, 0.82265969, ..., 0.4963482 , 0.66027241,\n",
              "        0.52064963],\n",
              "       [0.31652891, 0.13309828, 0.87345   , ..., 0.21374219, 0.76322837,\n",
              "        0.17848391],\n",
              "       [0.65457211, 0.67559635, 0.47976424, ..., 0.12056274, 0.10440825,\n",
              "        0.20278056],\n",
              "       ...,\n",
              "       [0.6636931 , 0.17862875, 0.81590515, ..., 0.72470591, 0.91506552,\n",
              "        0.95169875],\n",
              "       [0.8668639 , 0.06795703, 0.63310341, ..., 0.23457697, 0.57245622,\n",
              "        0.84530305],\n",
              "       [0.72620413, 0.79076099, 0.07778616, ..., 0.2479581 , 0.00571805,\n",
              "        0.1193227 ]])"
            ]
          },
          "metadata": {
            "tags": []
          },
          "execution_count": 43
        }
      ]
    },
    {
      "cell_type": "code",
      "metadata": {
        "colab": {
          "base_uri": "https://localhost:8080/"
        },
        "id": "X_N25AEQO5Qt",
        "outputId": "9a527106-6dec-4dae-b896-3f25663849d9"
      },
      "source": [
        "z3_sum_row=z2.sum(axis=1)\n",
        "z3_sum_row"
      ],
      "execution_count": 44,
      "outputs": [
        {
          "output_type": "execute_result",
          "data": {
            "text/plain": [
              "array([45.18895096, 45.41578085, 47.972866  , 38.38362983, 51.81205139,\n",
              "       47.17609642, 44.45330453, 43.80485441, 40.2891411 , 43.69994388,\n",
              "       40.01254001, 47.2242275 , 47.95540494, 48.988073  , 50.58031374,\n",
              "       48.97661853, 48.84780478, 48.49928308, 42.67088657, 38.10764404,\n",
              "       48.30744638, 41.34775919, 47.35288907, 49.02086342, 39.72514595,\n",
              "       44.99405679, 41.55429715, 47.7833822 , 46.60770887, 44.53251588,\n",
              "       39.34589711, 48.01006415, 47.46055256, 45.02741399, 46.10988972,\n",
              "       46.612466  , 44.96963935, 48.88462135, 43.57146469, 44.90040573,\n",
              "       44.01997117, 45.26516611, 45.45088546, 48.58052784, 43.19332028,\n",
              "       42.20129982, 44.24270491, 45.34466585, 44.20340355, 45.28242337,\n",
              "       45.84774559, 40.07899402, 51.17729803, 43.40229371, 41.17543255,\n",
              "       41.94996911, 45.11016626, 42.71153541, 48.614263  , 41.1151658 ,\n",
              "       40.49693326, 46.67837963, 45.01179422, 46.06014291, 46.99391498,\n",
              "       45.90608874, 43.58890249, 42.65158145, 44.04022032, 45.18623983,\n",
              "       45.76050607, 47.28060435, 40.21828346, 40.75704527, 47.30545639,\n",
              "       43.51523675, 48.01866322, 44.45582316, 47.30236826, 42.36647024,\n",
              "       46.53214205, 41.14287865, 44.35068895, 44.65382038, 45.5395236 ,\n",
              "       46.7510792 , 43.54927735, 43.23711888, 46.13690091])"
            ]
          },
          "metadata": {
            "tags": []
          },
          "execution_count": 44
        }
      ]
    },
    {
      "cell_type": "code",
      "metadata": {
        "colab": {
          "base_uri": "https://localhost:8080/"
        },
        "id": "CGCma_L8PqUM",
        "outputId": "a789881b-cc21-4729-d2de-bc59d2576978"
      },
      "source": [
        "z4=z2-z3_sum_row\n",
        "z4"
      ],
      "execution_count": 45,
      "outputs": [
        {
          "output_type": "execute_result",
          "data": {
            "text/plain": [
              "array([[-44.67093006, -44.72078574, -47.15020631, ..., -43.05292915,\n",
              "        -42.57684646, -45.61625128],\n",
              "       [-44.87242205, -45.28268257, -47.099416  , ..., -43.33553515,\n",
              "        -42.47389051, -45.958417  ],\n",
              "       [-44.53437885, -44.7401845 , -47.49310176, ..., -43.4287146 ,\n",
              "        -43.13271062, -45.93412035],\n",
              "       ...,\n",
              "       [-44.52525787, -45.2371521 , -47.15696085, ..., -42.82457143,\n",
              "        -42.32205336, -45.18520216],\n",
              "       [-44.32208706, -45.34782382, -47.33976259, ..., -43.31470037,\n",
              "        -42.66466265, -45.29159786],\n",
              "       [-44.46274683, -44.62501986, -47.89507984, ..., -43.30131925,\n",
              "        -43.23140082, -46.01757821]])"
            ]
          },
          "metadata": {
            "tags": []
          },
          "execution_count": 45
        }
      ]
    },
    {
      "cell_type": "code",
      "metadata": {
        "colab": {
          "base_uri": "https://localhost:8080/"
        },
        "id": "uLT0m8yxQ82A",
        "outputId": "81130cb3-36ad-436a-a9ab-c59364c9e65c"
      },
      "source": [
        "z4_max_replace_ind=(z4==(z4.max()))\n",
        "z4_max_replace_ind"
      ],
      "execution_count": 46,
      "outputs": [
        {
          "output_type": "execute_result",
          "data": {
            "text/plain": [
              "array([[False, False, False, ..., False, False, False],\n",
              "       [False, False, False, ..., False, False, False],\n",
              "       [False, False, False, ..., False, False, False],\n",
              "       ...,\n",
              "       [False, False, False, ..., False, False, False],\n",
              "       [False, False, False, ..., False, False, False],\n",
              "       [False, False, False, ..., False, False, False]])"
            ]
          },
          "metadata": {
            "tags": []
          },
          "execution_count": 46
        }
      ]
    },
    {
      "cell_type": "code",
      "metadata": {
        "colab": {
          "base_uri": "https://localhost:8080/"
        },
        "id": "9pAil7-nSQgu",
        "outputId": "76323436-40a0-4d92-a806-fcbe5c789876"
      },
      "source": [
        "z5=z4\n",
        "z5[z5==(z5.max())]=-1\n",
        "z5"
      ],
      "execution_count": 47,
      "outputs": [
        {
          "output_type": "execute_result",
          "data": {
            "text/plain": [
              "array([[-44.67093006, -44.72078574, -47.15020631, ..., -43.05292915,\n",
              "        -42.57684646, -45.61625128],\n",
              "       [-44.87242205, -45.28268257, -47.099416  , ..., -43.33553515,\n",
              "        -42.47389051, -45.958417  ],\n",
              "       [-44.53437885, -44.7401845 , -47.49310176, ..., -43.4287146 ,\n",
              "        -43.13271062, -45.93412035],\n",
              "       ...,\n",
              "       [-44.52525787, -45.2371521 , -47.15696085, ..., -42.82457143,\n",
              "        -42.32205336, -45.18520216],\n",
              "       [-44.32208706, -45.34782382, -47.33976259, ..., -43.31470037,\n",
              "        -42.66466265, -45.29159786],\n",
              "       [-44.46274683, -44.62501986, -47.89507984, ..., -43.30131925,\n",
              "        -43.23140082, -46.01757821]])"
            ]
          },
          "metadata": {
            "tags": []
          },
          "execution_count": 47
        }
      ]
    },
    {
      "cell_type": "markdown",
      "metadata": {
        "id": "ac5TT7PjBEbw"
      },
      "source": [
        "### Упражнение 5\n",
        "* Напишите функцию, которая берет многомерный вещественный массив с пропущенными значениями (np.nan) и возвращает его копию с заполненными пропусками (заменять средним значением всех элементов массива). Если в массиве одни пропущенные значения, заполните их нулями."
      ]
    },
    {
      "cell_type": "code",
      "metadata": {
        "colab": {
          "base_uri": "https://localhost:8080/"
        },
        "id": "MyptKafoZoDG",
        "outputId": "033efa22-c31d-409d-9133-147ba4316106"
      },
      "source": [
        "# создадим матрицу, где есть NaN\n",
        "z5_1=np.random.randint(38,100,(3,4,8))*1.00\n",
        "#z5_1\n",
        "z5_2=z5_1\n",
        "z5_2[z5_2%5==0]='NaN'\n",
        "z5_2"
      ],
      "execution_count": 55,
      "outputs": [
        {
          "output_type": "execute_result",
          "data": {
            "text/plain": [
              "array([[[86., nan, 82., nan, 57., 51., 42., 73.],\n",
              "        [41., 73., 92., 39., nan, 49., nan, 58.],\n",
              "        [82., nan, 91., 59., 98., 48., 61., 66.],\n",
              "        [73., 51., nan, nan, 63., 86., 82., nan]],\n",
              "\n",
              "       [[58., nan, 77., 69., 51., 71., 98., 72.],\n",
              "        [97., nan, 79., 78., 64., 69., 39., 62.],\n",
              "        [nan, 72., 69., nan, nan, nan, 43., 92.],\n",
              "        [83., 47., 88., nan, 72., 82., 42., 73.]],\n",
              "\n",
              "       [[nan, nan, 46., 67., 64., 66., nan, 96.],\n",
              "        [73., 97., 84., nan, 47., 96., 53., 93.],\n",
              "        [58., 73., 67., 94., 44., 56., nan, 42.],\n",
              "        [86., 48., 71., 39., 56., 57., nan, 51.]]])"
            ]
          },
          "metadata": {
            "tags": []
          },
          "execution_count": 55
        }
      ]
    },
    {
      "cell_type": "code",
      "metadata": {
        "colab": {
          "base_uri": "https://localhost:8080/"
        },
        "id": "rJoLkxn1gxbl",
        "outputId": "3f963279-e7e6-417e-f202-3715b1e73e57"
      },
      "source": [
        "# функция\n",
        "def func_replace_NaN_mean(x):\n",
        "    x_mean = round(np.nanmean(x),2)\n",
        "    y_NaN=x\n",
        "    y_NaN[np.where(np.isnan(y_NaN))] = x_mean\n",
        "    return y_NaN\n",
        "\n",
        "# вызов функции\n",
        "z5_end=func_replace_NaN_mean(z5_2)\n",
        "z5_end"
      ],
      "execution_count": 56,
      "outputs": [
        {
          "output_type": "execute_result",
          "data": {
            "text/plain": [
              "array([[[86.  , 67.65, 82.  , 67.65, 57.  , 51.  , 42.  , 73.  ],\n",
              "        [41.  , 73.  , 92.  , 39.  , 67.65, 49.  , 67.65, 58.  ],\n",
              "        [82.  , 67.65, 91.  , 59.  , 98.  , 48.  , 61.  , 66.  ],\n",
              "        [73.  , 51.  , 67.65, 67.65, 63.  , 86.  , 82.  , 67.65]],\n",
              "\n",
              "       [[58.  , 67.65, 77.  , 69.  , 51.  , 71.  , 98.  , 72.  ],\n",
              "        [97.  , 67.65, 79.  , 78.  , 64.  , 69.  , 39.  , 62.  ],\n",
              "        [67.65, 72.  , 69.  , 67.65, 67.65, 67.65, 43.  , 92.  ],\n",
              "        [83.  , 47.  , 88.  , 67.65, 72.  , 82.  , 42.  , 73.  ]],\n",
              "\n",
              "       [[67.65, 67.65, 46.  , 67.  , 64.  , 66.  , 67.65, 96.  ],\n",
              "        [73.  , 97.  , 84.  , 67.65, 47.  , 96.  , 53.  , 93.  ],\n",
              "        [58.  , 73.  , 67.  , 94.  , 44.  , 56.  , 67.65, 42.  ],\n",
              "        [86.  , 48.  , 71.  , 39.  , 56.  , 57.  , 67.65, 51.  ]]])"
            ]
          },
          "metadata": {
            "tags": []
          },
          "execution_count": 56
        }
      ]
    },
    {
      "cell_type": "markdown",
      "metadata": {
        "id": "TsxLp9QhBEbx"
      },
      "source": [
        "### Упражнение 6\n",
        "* Напишите функцию которая нормализирует заданный numpy-массив, так чтобы его значения лежали в интервале $[0, 1]$."
      ]
    },
    {
      "cell_type": "code",
      "metadata": {
        "colab": {
          "base_uri": "https://localhost:8080/"
        },
        "id": "jfIJNdK0n_cL",
        "outputId": "305b4772-7e7e-47e4-9a70-4e6b202e7e27"
      },
      "source": [
        "# создадим матрицу\n",
        "z6_1=np.random.randint(38,72,(3,4,8))*1.03\n",
        "z6_1"
      ],
      "execution_count": 64,
      "outputs": [
        {
          "output_type": "execute_result",
          "data": {
            "text/plain": [
              "array([[[56.65, 71.07, 40.17, 65.92, 41.2 , 56.65, 65.92, 39.14],\n",
              "        [62.83, 73.13, 67.98, 62.83, 44.29, 55.62, 51.5 , 57.68],\n",
              "        [42.23, 61.8 , 41.2 , 61.8 , 61.8 , 48.41, 62.83, 43.26],\n",
              "        [62.83, 66.95, 48.41, 41.2 , 54.59, 44.29, 41.2 , 52.53]],\n",
              "\n",
              "       [[56.65, 45.32, 43.26, 72.1 , 46.35, 41.2 , 69.01, 43.26],\n",
              "        [60.77, 55.62, 63.86, 55.62, 52.53, 50.47, 55.62, 55.62],\n",
              "        [52.53, 65.92, 40.17, 58.71, 53.56, 55.62, 45.32, 60.77],\n",
              "        [72.1 , 40.17, 66.95, 52.53, 70.04, 73.13, 71.07, 52.53]],\n",
              "\n",
              "       [[56.65, 57.68, 71.07, 46.35, 63.86, 41.2 , 50.47, 57.68],\n",
              "        [61.8 , 45.32, 60.77, 69.01, 52.53, 64.89, 54.59, 49.44],\n",
              "        [64.89, 70.04, 44.29, 48.41, 39.14, 51.5 , 69.01, 66.95],\n",
              "        [47.38, 42.23, 61.8 , 39.14, 59.74, 51.5 , 67.98, 65.92]]])"
            ]
          },
          "metadata": {
            "tags": []
          },
          "execution_count": 64
        }
      ]
    },
    {
      "cell_type": "code",
      "metadata": {
        "colab": {
          "base_uri": "https://localhost:8080/"
        },
        "id": "qAQVucMnobnh",
        "outputId": "d34f3c38-6d09-4c94-e1d5-5f53d35732f2"
      },
      "source": [
        "# функция\n",
        "def func_Normalization(x):\n",
        "    x_min = round(np.min(x),2)\n",
        "    x_max = round(np.max(x),2)\n",
        "    y_Normal = np.round((x-x_min)/(x_max-x_min),3)\n",
        "    return y_Normal\n",
        "\n",
        "# вызов функции\n",
        "z6_end=func_Normalization(z6_1)\n",
        "z6_end"
      ],
      "execution_count": 68,
      "outputs": [
        {
          "output_type": "execute_result",
          "data": {
            "text/plain": [
              "array([[[0.515, 0.939, 0.03 , 0.788, 0.061, 0.515, 0.788, 0.   ],\n",
              "        [0.697, 1.   , 0.848, 0.697, 0.152, 0.485, 0.364, 0.545],\n",
              "        [0.091, 0.667, 0.061, 0.667, 0.667, 0.273, 0.697, 0.121],\n",
              "        [0.697, 0.818, 0.273, 0.061, 0.455, 0.152, 0.061, 0.394]],\n",
              "\n",
              "       [[0.515, 0.182, 0.121, 0.97 , 0.212, 0.061, 0.879, 0.121],\n",
              "        [0.636, 0.485, 0.727, 0.485, 0.394, 0.333, 0.485, 0.485],\n",
              "        [0.394, 0.788, 0.03 , 0.576, 0.424, 0.485, 0.182, 0.636],\n",
              "        [0.97 , 0.03 , 0.818, 0.394, 0.909, 1.   , 0.939, 0.394]],\n",
              "\n",
              "       [[0.515, 0.545, 0.939, 0.212, 0.727, 0.061, 0.333, 0.545],\n",
              "        [0.667, 0.182, 0.636, 0.879, 0.394, 0.758, 0.455, 0.303],\n",
              "        [0.758, 0.909, 0.152, 0.273, 0.   , 0.364, 0.879, 0.818],\n",
              "        [0.242, 0.091, 0.667, 0.   , 0.606, 0.364, 0.848, 0.788]]])"
            ]
          },
          "metadata": {
            "tags": []
          },
          "execution_count": 68
        }
      ]
    },
    {
      "cell_type": "markdown",
      "metadata": {
        "id": "85CexVYEBEbx"
      },
      "source": [
        "### Упражнение 7\n",
        "* Запишите numpy-array в файл.\n",
        "* Считайте numpy-array из файла."
      ]
    },
    {
      "cell_type": "code",
      "metadata": {
        "colab": {
          "base_uri": "https://localhost:8080/"
        },
        "id": "feBNbUKATJgF",
        "outputId": "82b96775-f853-4206-e24c-a7c7fa406a9b"
      },
      "source": [
        "size_m1_s=4\n",
        "size_m2_s=8\n",
        "size_matrix_s=np.random.randint(size_m1_s, size_m2_s+1)\n",
        "z1_save=np.random.random((size_matrix_s,size_matrix_s))\n",
        "z1_save"
      ],
      "execution_count": 65,
      "outputs": [
        {
          "output_type": "execute_result",
          "data": {
            "text/plain": [
              "array([[0.19402479, 0.87538233, 0.06087767, 0.07825319, 0.43455463],\n",
              "       [0.034233  , 0.89257809, 0.91136937, 0.87869544, 0.70251366],\n",
              "       [0.50245725, 0.44248445, 0.28218675, 0.48698405, 0.49877198],\n",
              "       [0.96132527, 0.49675326, 0.07396594, 0.46700615, 0.08675805],\n",
              "       [0.20900616, 0.86399139, 0.44693181, 0.0796093 , 0.94236932]])"
            ]
          },
          "metadata": {
            "tags": []
          },
          "execution_count": 65
        }
      ]
    },
    {
      "cell_type": "code",
      "metadata": {
        "id": "agLeNU4rVxPO"
      },
      "source": [
        "# запись в файл\n",
        "np.save('example_save_arr_Savitskaya', z1_save)"
      ],
      "execution_count": 66,
      "outputs": []
    },
    {
      "cell_type": "code",
      "metadata": {
        "colab": {
          "base_uri": "https://localhost:8080/"
        },
        "id": "stQWRIh_VeO3",
        "outputId": "821b2aeb-fc94-4a81-d829-096e51726f51"
      },
      "source": [
        "# чтение из файла\n",
        "z2_load=np.load('example_save_arr_Savitskaya.npy')\n",
        "z2_load"
      ],
      "execution_count": 67,
      "outputs": [
        {
          "output_type": "execute_result",
          "data": {
            "text/plain": [
              "array([[0.19402479, 0.87538233, 0.06087767, 0.07825319, 0.43455463],\n",
              "       [0.034233  , 0.89257809, 0.91136937, 0.87869544, 0.70251366],\n",
              "       [0.50245725, 0.44248445, 0.28218675, 0.48698405, 0.49877198],\n",
              "       [0.96132527, 0.49675326, 0.07396594, 0.46700615, 0.08675805],\n",
              "       [0.20900616, 0.86399139, 0.44693181, 0.0796093 , 0.94236932]])"
            ]
          },
          "metadata": {
            "tags": []
          },
          "execution_count": 67
        }
      ]
    },
    {
      "cell_type": "markdown",
      "metadata": {
        "id": "EuUFEIWPBEby"
      },
      "source": [
        "### Упражнение 8\n",
        "* Создайте случайный массив\n",
        "* Найдите в массиве элемент ближайший к данному"
      ]
    },
    {
      "cell_type": "code",
      "metadata": {
        "colab": {
          "base_uri": "https://localhost:8080/"
        },
        "id": "tHyPt1WZtc8P",
        "outputId": "4284c090-15aa-44ad-9b45-d17d4c14954a"
      },
      "source": [
        "# создаем случайный массив\n",
        "size_m1=3\n",
        "size_m2=5\n",
        "z8_1=np.round(np.random.random((np.random.randint(size_m1, size_m2+1),np.random.randint(size_m1, size_m2+1))), 4)\n",
        "z8_1"
      ],
      "execution_count": 105,
      "outputs": [
        {
          "output_type": "execute_result",
          "data": {
            "text/plain": [
              "array([[0.2353, 0.6725, 0.3974, 0.4526],\n",
              "       [0.6161, 0.3798, 0.2401, 0.4222],\n",
              "       [0.259 , 0.1068, 0.229 , 0.0188]])"
            ]
          },
          "metadata": {
            "tags": []
          },
          "execution_count": 105
        }
      ]
    },
    {
      "cell_type": "code",
      "metadata": {
        "colab": {
          "base_uri": "https://localhost:8080/"
        },
        "id": "U3X1Z8Wl3E2Z",
        "outputId": "5e1c114e-df3d-4845-c6c2-438c34975b9e"
      },
      "source": [
        "# генерируем случайное число, ближайшее к которому будем искать в массиве\n",
        "z8_looking_for = np.round(np.random.uniform(0,1), 4)\n",
        "z8_looking_for"
      ],
      "execution_count": 106,
      "outputs": [
        {
          "output_type": "execute_result",
          "data": {
            "text/plain": [
              "0.1017"
            ]
          },
          "metadata": {
            "tags": []
          },
          "execution_count": 106
        }
      ]
    },
    {
      "cell_type": "code",
      "metadata": {
        "colab": {
          "base_uri": "https://localhost:8080/"
        },
        "id": "MnaMXs9suXyL",
        "outputId": "a081020d-9188-4253-c04d-09f103aa3211"
      },
      "source": [
        "# ищем в массиве ближайший элемент\n",
        "#z8_2=z8_1\n",
        "index = np.where((np.abs(z8_1-z8_looking_for))==(np.abs(z8_1-z8_looking_for).min()))\n",
        "index"
      ],
      "execution_count": 107,
      "outputs": [
        {
          "output_type": "execute_result",
          "data": {
            "text/plain": [
              "(array([2]), array([1]))"
            ]
          },
          "metadata": {
            "tags": []
          },
          "execution_count": 107
        }
      ]
    },
    {
      "cell_type": "code",
      "metadata": {
        "colab": {
          "base_uri": "https://localhost:8080/"
        },
        "id": "sKljzS9_vFQJ",
        "outputId": "5fd9d207-6862-4278-ab0c-eb8a5d982bb3"
      },
      "source": [
        "print(z8_1[index])"
      ],
      "execution_count": 108,
      "outputs": [
        {
          "output_type": "stream",
          "text": [
            "[0.1068]\n"
          ],
          "name": "stdout"
        }
      ]
    },
    {
      "cell_type": "markdown",
      "metadata": {
        "id": "GH6rVdSaBEby"
      },
      "source": [
        "### Упражнение 9"
      ]
    },
    {
      "cell_type": "markdown",
      "metadata": {
        "id": "OfAeRG2SBEbz"
      },
      "source": [
        "* Напишите функцию, которая возвращает  $n \\times m$ целочисленную матрицу с заданным значением на границах матрицы и с заданным значением внутри"
      ]
    },
    {
      "cell_type": "code",
      "metadata": {
        "colab": {
          "base_uri": "https://localhost:8080/"
        },
        "id": "4uMVWU1V6luD",
        "outputId": "d48e3193-88fd-4c19-851d-cb32f8ceb7b0"
      },
      "source": [
        "# функция\n",
        "def func_create_Matrix(M_n, M_m, V_ext, V_in):\n",
        "    Matrix_create = np.ones((M_n,M_m), dtype=int)*V_ext\n",
        "    Matrix_create[1:-1,1:-1]=V_in\n",
        "    return Matrix_create\n",
        "\n",
        "# вызов функции\n",
        "z9_n=4\n",
        "z9_m=7\n",
        "z9_V_ext=8\n",
        "z9_V_in=1\n",
        "z9_end=func_create_Matrix(z9_n, z9_m, z9_V_ext, z9_V_in)\n",
        "z9_end\n"
      ],
      "execution_count": 112,
      "outputs": [
        {
          "output_type": "execute_result",
          "data": {
            "text/plain": [
              "array([[8, 8, 8, 8, 8, 8, 8],\n",
              "       [8, 1, 1, 1, 1, 1, 8],\n",
              "       [8, 1, 1, 1, 1, 1, 8],\n",
              "       [8, 8, 8, 8, 8, 8, 8]])"
            ]
          },
          "metadata": {
            "tags": []
          },
          "execution_count": 112
        }
      ]
    },
    {
      "cell_type": "markdown",
      "metadata": {
        "id": "rwFlyBcpBEb0"
      },
      "source": [
        "### Упражнение 10\n",
        "* Напишите функцию, которая сортирует строки данной матрицы по значениям заданного столбца в порядке убывания. "
      ]
    },
    {
      "cell_type": "code",
      "metadata": {
        "colab": {
          "base_uri": "https://localhost:8080/"
        },
        "id": "-xG4b9HyFCpC",
        "outputId": "50ceb5ef-245c-4090-8928-de46e9b64362"
      },
      "source": [
        "#создаем матрицу, которую будем сортировать\n",
        "z10_1= np.random.randint(0, 1000, (3, 4))\n",
        "z10_1"
      ],
      "execution_count": 137,
      "outputs": [
        {
          "output_type": "execute_result",
          "data": {
            "text/plain": [
              "array([[997, 986, 540, 985],\n",
              "       [796, 624, 919, 685],\n",
              "       [ 99, 156, 771, 450]])"
            ]
          },
          "metadata": {
            "tags": []
          },
          "execution_count": 137
        }
      ]
    },
    {
      "cell_type": "code",
      "metadata": {
        "colab": {
          "base_uri": "https://localhost:8080/"
        },
        "id": "I4BpDZdJEcZJ",
        "outputId": "e74b1d47-c7ca-4754-924e-3ca3eba56be2"
      },
      "source": [
        "# функция\n",
        "def func_Sort_Matrix(z_Sort, col_Sort):\n",
        "    Matrix_Sort = z_Sort[z_Sort[:,col_Sort].argsort()][::-1]\n",
        "    return Matrix_Sort\n",
        "\n",
        "# устанавливаем столбец, по которому будем сортировать\n",
        "z10_col = 2  \n",
        "\n",
        "# вызов функции\n",
        "z10_end=func_Sort_Matrix(z10_1, z10_col)\n",
        "z10_end"
      ],
      "execution_count": 146,
      "outputs": [
        {
          "output_type": "execute_result",
          "data": {
            "text/plain": [
              "array([[796, 624, 919, 685],\n",
              "       [ 99, 156, 771, 450],\n",
              "       [997, 986, 540, 985]])"
            ]
          },
          "metadata": {
            "tags": []
          },
          "execution_count": 146
        }
      ]
    },
    {
      "cell_type": "markdown",
      "metadata": {
        "id": "UpqXRRehBEb0"
      },
      "source": [
        "### Упражнение 11\n",
        "\n",
        "* Напишите функцию, которая создает двоичную матрицу шахматной доски с заданным shape\n",
        "\n",
        "Пример 4x4:\n",
        "```python\n",
        "[[0, 1, 0, 1],\n",
        " [1, 0, 1, 0],\n",
        " [0, 1, 0, 1],\n",
        " [1, 0, 1, 0]]\n",
        "```"
      ]
    },
    {
      "cell_type": "code",
      "metadata": {
        "colab": {
          "base_uri": "https://localhost:8080/"
        },
        "id": "9sO5CI8KTRfx",
        "outputId": "7ecc81a2-2696-4df4-85b6-ec2477172082"
      },
      "source": [
        "# функция\n",
        "def func_Creat_Matrix_1(M_r):\n",
        "    Matrix_C = np.zeros((M_r,M_r), dtype=int)\n",
        "    Matrix_C[1::2,::2] = 1\n",
        "    Matrix_C[::2,1::2] = 1\n",
        "    return Matrix_C\n",
        "\n",
        "# исходные параметры\n",
        "z11_m = 5  \n",
        "\n",
        "# вызов функции\n",
        "z11_end=func_Creat_Matrix_1(z11_m)\n",
        "z11_end"
      ],
      "execution_count": 149,
      "outputs": [
        {
          "output_type": "execute_result",
          "data": {
            "text/plain": [
              "array([[0, 1, 0, 1, 0],\n",
              "       [1, 0, 1, 0, 1],\n",
              "       [0, 1, 0, 1, 0],\n",
              "       [1, 0, 1, 0, 1],\n",
              "       [0, 1, 0, 1, 0]])"
            ]
          },
          "metadata": {
            "tags": []
          },
          "execution_count": 149
        }
      ]
    },
    {
      "cell_type": "markdown",
      "metadata": {
        "id": "bpVy7hCCBEb1"
      },
      "source": [
        "### Упражнение 12\n",
        "* Напишите игру [life](https://en.wikipedia.org/wiki/Conway%27s_Game_of_Life), используя массивы numpy.\n",
        "* Визуализируйте интерактивно ее результаты.\n",
        "\n"
      ]
    },
    {
      "cell_type": "code",
      "metadata": {
        "colab": {
          "base_uri": "https://localhost:8080/"
        },
        "id": "fbUdQ3z7ZuOL",
        "outputId": "09097b89-0125-4e48-bf67-3db83b153768"
      },
      "source": [
        "def iterate(Z):\n",
        "    # Count neighbours\n",
        "    N = (Z[0:-2,0:-2] + Z[0:-2,1:-1] + Z[0:-2,2:] +\n",
        "         Z[1:-1,0:-2]                + Z[1:-1,2:] +\n",
        "         Z[2:  ,0:-2] + Z[2:  ,1:-1] + Z[2:  ,2:])\n",
        "\n",
        "    # Apply rules\n",
        "    birth = (N == 3) & (Z[1:-1,1:-1]==0)\n",
        "    survive = ((N == 2) | (N == 3)) & (Z[1:-1,1:-1] == 1)\n",
        "    Z[...] = 0\n",
        "    Z[1:-1,1:-1][birth | survive] = 1\n",
        "    return Z\n",
        "\n",
        "Z = np.random.randint(0,2,(50,50))\n",
        "for i in range(100):\n",
        "    print(Z)\n",
        "    Z = iterate(Z)"
      ],
      "execution_count": 167,
      "outputs": [
        {
          "output_type": "stream",
          "text": [
            "[[0 1 1 ... 1 0 0]\n",
            " [0 0 0 ... 0 0 0]\n",
            " [1 0 1 ... 1 1 0]\n",
            " ...\n",
            " [1 1 0 ... 0 1 1]\n",
            " [0 0 1 ... 1 1 1]\n",
            " [0 1 0 ... 0 0 1]]\n",
            "[[0 0 0 ... 0 0 0]\n",
            " [0 0 0 ... 0 1 0]\n",
            " [0 0 1 ... 1 0 0]\n",
            " ...\n",
            " [0 1 1 ... 0 0 0]\n",
            " [0 0 1 ... 0 0 0]\n",
            " [0 0 0 ... 0 0 0]]\n",
            "[[0 0 0 ... 0 0 0]\n",
            " [0 0 1 ... 1 0 0]\n",
            " [0 0 1 ... 1 1 0]\n",
            " ...\n",
            " [0 0 0 ... 1 0 0]\n",
            " [0 1 1 ... 0 0 0]\n",
            " [0 0 0 ... 0 0 0]]\n",
            "[[0 0 0 ... 0 0 0]\n",
            " [0 0 1 ... 0 1 0]\n",
            " [0 0 1 ... 0 0 0]\n",
            " ...\n",
            " [0 0 1 ... 1 0 0]\n",
            " [0 0 1 ... 0 0 0]\n",
            " [0 0 0 ... 0 0 0]]\n",
            "[[0 0 0 ... 0 0 0]\n",
            " [0 0 0 ... 0 0 0]\n",
            " [0 0 1 ... 0 0 0]\n",
            " ...\n",
            " [0 0 1 ... 0 1 0]\n",
            " [0 0 1 ... 0 0 0]\n",
            " [0 0 0 ... 0 0 0]]\n",
            "[[0 0 0 ... 0 0 0]\n",
            " [0 0 0 ... 0 0 0]\n",
            " [0 0 0 ... 0 0 0]\n",
            " ...\n",
            " [0 0 1 ... 1 0 0]\n",
            " [0 0 1 ... 0 0 0]\n",
            " [0 0 0 ... 0 0 0]]\n",
            "[[0 0 0 ... 0 0 0]\n",
            " [0 0 0 ... 0 0 0]\n",
            " [0 0 0 ... 0 0 0]\n",
            " ...\n",
            " [0 0 1 ... 1 0 0]\n",
            " [0 0 1 ... 0 0 0]\n",
            " [0 0 0 ... 0 0 0]]\n",
            "[[0 0 0 ... 0 0 0]\n",
            " [0 0 0 ... 0 0 0]\n",
            " [0 0 0 ... 0 0 0]\n",
            " ...\n",
            " [0 0 1 ... 1 0 0]\n",
            " [0 0 1 ... 0 0 0]\n",
            " [0 0 0 ... 0 0 0]]\n",
            "[[0 0 0 ... 0 0 0]\n",
            " [0 0 0 ... 0 0 0]\n",
            " [0 0 0 ... 1 0 0]\n",
            " ...\n",
            " [0 0 1 ... 1 0 0]\n",
            " [0 0 1 ... 0 0 0]\n",
            " [0 0 0 ... 0 0 0]]\n",
            "[[0 0 0 ... 0 0 0]\n",
            " [0 0 0 ... 0 0 0]\n",
            " [0 0 0 ... 1 0 0]\n",
            " ...\n",
            " [0 0 1 ... 1 0 0]\n",
            " [0 0 1 ... 0 0 0]\n",
            " [0 0 0 ... 0 0 0]]\n",
            "[[0 0 0 ... 0 0 0]\n",
            " [0 0 0 ... 0 0 0]\n",
            " [0 0 0 ... 0 0 0]\n",
            " ...\n",
            " [0 0 1 ... 1 0 0]\n",
            " [0 0 1 ... 0 0 0]\n",
            " [0 0 0 ... 0 0 0]]\n",
            "[[0 0 0 ... 0 0 0]\n",
            " [0 0 0 ... 0 0 0]\n",
            " [0 0 0 ... 0 0 0]\n",
            " ...\n",
            " [0 0 1 ... 1 0 0]\n",
            " [0 0 1 ... 0 0 0]\n",
            " [0 0 0 ... 0 0 0]]\n",
            "[[0 0 0 ... 0 0 0]\n",
            " [0 0 0 ... 0 0 0]\n",
            " [0 0 0 ... 1 0 0]\n",
            " ...\n",
            " [0 0 1 ... 0 1 0]\n",
            " [0 0 1 ... 1 0 0]\n",
            " [0 0 0 ... 0 0 0]]\n",
            "[[0 0 0 ... 0 0 0]\n",
            " [0 0 0 ... 0 0 0]\n",
            " [0 0 0 ... 0 0 0]\n",
            " ...\n",
            " [0 0 1 ... 1 0 0]\n",
            " [0 0 1 ... 1 0 0]\n",
            " [0 0 0 ... 0 0 0]]\n",
            "[[0 0 0 ... 0 0 0]\n",
            " [0 0 0 ... 0 0 0]\n",
            " [0 0 0 ... 0 0 0]\n",
            " ...\n",
            " [0 0 1 ... 1 0 0]\n",
            " [0 0 1 ... 1 0 0]\n",
            " [0 0 0 ... 0 0 0]]\n",
            "[[0 0 0 ... 0 0 0]\n",
            " [0 0 0 ... 0 0 0]\n",
            " [0 0 0 ... 0 0 0]\n",
            " ...\n",
            " [0 0 1 ... 0 0 0]\n",
            " [0 0 1 ... 0 0 0]\n",
            " [0 0 0 ... 0 0 0]]\n",
            "[[0 0 0 ... 0 0 0]\n",
            " [0 0 0 ... 0 0 0]\n",
            " [0 0 0 ... 0 0 0]\n",
            " ...\n",
            " [0 0 1 ... 0 0 0]\n",
            " [0 0 1 ... 0 0 0]\n",
            " [0 0 0 ... 0 0 0]]\n",
            "[[0 0 0 ... 0 0 0]\n",
            " [0 0 0 ... 0 0 0]\n",
            " [0 0 0 ... 0 0 0]\n",
            " ...\n",
            " [0 0 1 ... 0 0 0]\n",
            " [0 0 1 ... 0 0 0]\n",
            " [0 0 0 ... 0 0 0]]\n",
            "[[0 0 0 ... 0 0 0]\n",
            " [0 0 0 ... 0 0 0]\n",
            " [0 0 0 ... 0 0 0]\n",
            " ...\n",
            " [0 0 1 ... 0 0 0]\n",
            " [0 0 1 ... 0 0 0]\n",
            " [0 0 0 ... 0 0 0]]\n",
            "[[0 0 0 ... 0 0 0]\n",
            " [0 0 0 ... 0 0 0]\n",
            " [0 0 0 ... 0 0 0]\n",
            " ...\n",
            " [0 0 1 ... 0 0 0]\n",
            " [0 0 1 ... 0 0 0]\n",
            " [0 0 0 ... 0 0 0]]\n",
            "[[0 0 0 ... 0 0 0]\n",
            " [0 0 0 ... 0 0 0]\n",
            " [0 0 0 ... 0 0 0]\n",
            " ...\n",
            " [0 0 1 ... 0 0 0]\n",
            " [0 0 1 ... 0 0 0]\n",
            " [0 0 0 ... 0 0 0]]\n",
            "[[0 0 0 ... 0 0 0]\n",
            " [0 0 0 ... 0 0 0]\n",
            " [0 0 0 ... 0 0 0]\n",
            " ...\n",
            " [0 0 1 ... 0 0 0]\n",
            " [0 0 1 ... 0 0 0]\n",
            " [0 0 0 ... 0 0 0]]\n",
            "[[0 0 0 ... 0 0 0]\n",
            " [0 0 0 ... 0 0 0]\n",
            " [0 0 0 ... 0 0 0]\n",
            " ...\n",
            " [0 0 1 ... 0 0 0]\n",
            " [0 0 1 ... 0 0 0]\n",
            " [0 0 0 ... 0 0 0]]\n",
            "[[0 0 0 ... 0 0 0]\n",
            " [0 0 0 ... 0 0 0]\n",
            " [0 0 0 ... 0 0 0]\n",
            " ...\n",
            " [0 0 1 ... 0 0 0]\n",
            " [0 0 1 ... 0 0 0]\n",
            " [0 0 0 ... 0 0 0]]\n",
            "[[0 0 0 ... 0 0 0]\n",
            " [0 0 0 ... 0 0 0]\n",
            " [0 0 0 ... 0 0 0]\n",
            " ...\n",
            " [0 0 1 ... 0 0 0]\n",
            " [0 0 1 ... 0 0 0]\n",
            " [0 0 0 ... 0 0 0]]\n",
            "[[0 0 0 ... 0 0 0]\n",
            " [0 0 0 ... 0 0 0]\n",
            " [0 0 0 ... 0 0 0]\n",
            " ...\n",
            " [0 0 1 ... 0 0 0]\n",
            " [0 0 1 ... 0 0 0]\n",
            " [0 0 0 ... 0 0 0]]\n",
            "[[0 0 0 ... 0 0 0]\n",
            " [0 0 0 ... 0 0 0]\n",
            " [0 0 0 ... 0 0 0]\n",
            " ...\n",
            " [0 0 1 ... 0 0 0]\n",
            " [0 0 1 ... 0 0 0]\n",
            " [0 0 0 ... 0 0 0]]\n",
            "[[0 0 0 ... 0 0 0]\n",
            " [0 0 0 ... 0 0 0]\n",
            " [0 0 0 ... 0 0 0]\n",
            " ...\n",
            " [0 0 1 ... 0 0 0]\n",
            " [0 0 1 ... 0 0 0]\n",
            " [0 0 0 ... 0 0 0]]\n",
            "[[0 0 0 ... 0 0 0]\n",
            " [0 0 0 ... 0 0 0]\n",
            " [0 0 0 ... 0 0 0]\n",
            " ...\n",
            " [0 0 1 ... 0 0 0]\n",
            " [0 0 1 ... 0 0 0]\n",
            " [0 0 0 ... 0 0 0]]\n",
            "[[0 0 0 ... 0 0 0]\n",
            " [0 0 0 ... 0 0 0]\n",
            " [0 0 0 ... 0 0 0]\n",
            " ...\n",
            " [0 0 1 ... 0 0 0]\n",
            " [0 0 1 ... 0 0 0]\n",
            " [0 0 0 ... 0 0 0]]\n",
            "[[0 0 0 ... 0 0 0]\n",
            " [0 0 0 ... 0 0 0]\n",
            " [0 0 0 ... 0 0 0]\n",
            " ...\n",
            " [0 0 1 ... 0 0 0]\n",
            " [0 0 1 ... 0 0 0]\n",
            " [0 0 0 ... 0 0 0]]\n",
            "[[0 0 0 ... 0 0 0]\n",
            " [0 0 0 ... 0 0 0]\n",
            " [0 0 0 ... 0 0 0]\n",
            " ...\n",
            " [0 0 1 ... 0 0 0]\n",
            " [0 0 1 ... 0 0 0]\n",
            " [0 0 0 ... 0 0 0]]\n",
            "[[0 0 0 ... 0 0 0]\n",
            " [0 0 0 ... 0 0 0]\n",
            " [0 0 0 ... 0 0 0]\n",
            " ...\n",
            " [0 0 1 ... 0 0 0]\n",
            " [0 0 1 ... 0 0 0]\n",
            " [0 0 0 ... 0 0 0]]\n",
            "[[0 0 0 ... 0 0 0]\n",
            " [0 0 0 ... 0 0 0]\n",
            " [0 0 0 ... 0 0 0]\n",
            " ...\n",
            " [0 0 1 ... 0 0 0]\n",
            " [0 0 1 ... 0 0 0]\n",
            " [0 0 0 ... 0 0 0]]\n",
            "[[0 0 0 ... 0 0 0]\n",
            " [0 0 0 ... 0 0 0]\n",
            " [0 0 0 ... 0 0 0]\n",
            " ...\n",
            " [0 0 1 ... 0 0 0]\n",
            " [0 0 1 ... 0 0 0]\n",
            " [0 0 0 ... 0 0 0]]\n",
            "[[0 0 0 ... 0 0 0]\n",
            " [0 0 0 ... 0 0 0]\n",
            " [0 0 0 ... 0 0 0]\n",
            " ...\n",
            " [0 0 1 ... 0 0 0]\n",
            " [0 0 1 ... 0 0 0]\n",
            " [0 0 0 ... 0 0 0]]\n",
            "[[0 0 0 ... 0 0 0]\n",
            " [0 0 0 ... 0 0 0]\n",
            " [0 0 0 ... 0 0 0]\n",
            " ...\n",
            " [0 0 1 ... 0 0 0]\n",
            " [0 0 1 ... 0 0 0]\n",
            " [0 0 0 ... 0 0 0]]\n",
            "[[0 0 0 ... 0 0 0]\n",
            " [0 0 0 ... 0 0 0]\n",
            " [0 0 0 ... 0 0 0]\n",
            " ...\n",
            " [0 0 1 ... 0 0 0]\n",
            " [0 0 1 ... 0 0 0]\n",
            " [0 0 0 ... 0 0 0]]\n",
            "[[0 0 0 ... 0 0 0]\n",
            " [0 0 0 ... 0 0 0]\n",
            " [0 0 0 ... 0 0 0]\n",
            " ...\n",
            " [0 0 1 ... 0 0 0]\n",
            " [0 0 1 ... 0 0 0]\n",
            " [0 0 0 ... 0 0 0]]\n",
            "[[0 0 0 ... 0 0 0]\n",
            " [0 0 0 ... 0 0 0]\n",
            " [0 0 0 ... 0 0 0]\n",
            " ...\n",
            " [0 0 1 ... 0 0 0]\n",
            " [0 0 1 ... 0 0 0]\n",
            " [0 0 0 ... 0 0 0]]\n",
            "[[0 0 0 ... 0 0 0]\n",
            " [0 0 0 ... 0 0 0]\n",
            " [0 0 0 ... 0 0 0]\n",
            " ...\n",
            " [0 0 1 ... 0 0 0]\n",
            " [0 0 1 ... 0 0 0]\n",
            " [0 0 0 ... 0 0 0]]\n",
            "[[0 0 0 ... 0 0 0]\n",
            " [0 0 0 ... 0 0 0]\n",
            " [0 0 0 ... 0 0 0]\n",
            " ...\n",
            " [0 0 1 ... 0 0 0]\n",
            " [0 0 1 ... 0 0 0]\n",
            " [0 0 0 ... 0 0 0]]\n",
            "[[0 0 0 ... 0 0 0]\n",
            " [0 0 0 ... 0 0 0]\n",
            " [0 0 0 ... 0 0 0]\n",
            " ...\n",
            " [0 0 1 ... 0 0 0]\n",
            " [0 0 1 ... 0 0 0]\n",
            " [0 0 0 ... 0 0 0]]\n",
            "[[0 0 0 ... 0 0 0]\n",
            " [0 0 0 ... 0 0 0]\n",
            " [0 0 0 ... 0 0 0]\n",
            " ...\n",
            " [0 0 1 ... 0 0 0]\n",
            " [0 0 1 ... 0 0 0]\n",
            " [0 0 0 ... 0 0 0]]\n",
            "[[0 0 0 ... 0 0 0]\n",
            " [0 0 0 ... 0 0 0]\n",
            " [0 0 0 ... 0 0 0]\n",
            " ...\n",
            " [0 0 1 ... 0 0 0]\n",
            " [0 0 1 ... 0 0 0]\n",
            " [0 0 0 ... 0 0 0]]\n",
            "[[0 0 0 ... 0 0 0]\n",
            " [0 0 0 ... 0 0 0]\n",
            " [0 0 0 ... 0 0 0]\n",
            " ...\n",
            " [0 0 1 ... 0 0 0]\n",
            " [0 0 1 ... 0 0 0]\n",
            " [0 0 0 ... 0 0 0]]\n",
            "[[0 0 0 ... 0 0 0]\n",
            " [0 0 0 ... 0 0 0]\n",
            " [0 0 0 ... 0 0 0]\n",
            " ...\n",
            " [0 0 1 ... 0 0 0]\n",
            " [0 0 1 ... 0 0 0]\n",
            " [0 0 0 ... 0 0 0]]\n",
            "[[0 0 0 ... 0 0 0]\n",
            " [0 0 0 ... 0 0 0]\n",
            " [0 0 0 ... 0 0 0]\n",
            " ...\n",
            " [0 0 1 ... 0 0 0]\n",
            " [0 0 1 ... 0 0 0]\n",
            " [0 0 0 ... 0 0 0]]\n",
            "[[0 0 0 ... 0 0 0]\n",
            " [0 0 0 ... 0 0 0]\n",
            " [0 0 0 ... 0 0 0]\n",
            " ...\n",
            " [0 0 1 ... 0 0 0]\n",
            " [0 0 1 ... 0 0 0]\n",
            " [0 0 0 ... 0 0 0]]\n",
            "[[0 0 0 ... 0 0 0]\n",
            " [0 0 0 ... 0 0 0]\n",
            " [0 0 0 ... 0 0 0]\n",
            " ...\n",
            " [0 0 1 ... 0 0 0]\n",
            " [0 0 1 ... 0 0 0]\n",
            " [0 0 0 ... 0 0 0]]\n",
            "[[0 0 0 ... 0 0 0]\n",
            " [0 0 0 ... 0 0 0]\n",
            " [0 0 0 ... 0 0 0]\n",
            " ...\n",
            " [0 0 1 ... 0 0 0]\n",
            " [0 0 1 ... 0 0 0]\n",
            " [0 0 0 ... 0 0 0]]\n",
            "[[0 0 0 ... 0 0 0]\n",
            " [0 0 0 ... 0 0 0]\n",
            " [0 0 0 ... 0 0 0]\n",
            " ...\n",
            " [0 0 1 ... 0 0 0]\n",
            " [0 0 1 ... 0 0 0]\n",
            " [0 0 0 ... 0 0 0]]\n",
            "[[0 0 0 ... 0 0 0]\n",
            " [0 0 0 ... 0 0 0]\n",
            " [0 0 0 ... 0 0 0]\n",
            " ...\n",
            " [0 0 1 ... 0 0 0]\n",
            " [0 0 1 ... 0 0 0]\n",
            " [0 0 0 ... 0 0 0]]\n",
            "[[0 0 0 ... 0 0 0]\n",
            " [0 0 0 ... 0 0 0]\n",
            " [0 0 0 ... 0 0 0]\n",
            " ...\n",
            " [0 0 1 ... 0 0 0]\n",
            " [0 0 1 ... 0 0 0]\n",
            " [0 0 0 ... 0 0 0]]\n",
            "[[0 0 0 ... 0 0 0]\n",
            " [0 0 0 ... 0 0 0]\n",
            " [0 0 0 ... 0 0 0]\n",
            " ...\n",
            " [0 0 1 ... 0 0 0]\n",
            " [0 0 1 ... 0 0 0]\n",
            " [0 0 0 ... 0 0 0]]\n",
            "[[0 0 0 ... 0 0 0]\n",
            " [0 0 0 ... 0 0 0]\n",
            " [0 0 0 ... 0 0 0]\n",
            " ...\n",
            " [0 0 1 ... 0 0 0]\n",
            " [0 0 1 ... 0 0 0]\n",
            " [0 0 0 ... 0 0 0]]\n",
            "[[0 0 0 ... 0 0 0]\n",
            " [0 0 0 ... 0 0 0]\n",
            " [0 0 0 ... 0 0 0]\n",
            " ...\n",
            " [0 0 1 ... 0 0 0]\n",
            " [0 0 1 ... 0 0 0]\n",
            " [0 0 0 ... 0 0 0]]\n",
            "[[0 0 0 ... 0 0 0]\n",
            " [0 0 0 ... 0 0 0]\n",
            " [0 0 0 ... 0 0 0]\n",
            " ...\n",
            " [0 0 1 ... 1 0 0]\n",
            " [0 0 1 ... 0 0 0]\n",
            " [0 0 0 ... 0 0 0]]\n",
            "[[0 0 0 ... 0 0 0]\n",
            " [0 0 0 ... 0 0 0]\n",
            " [0 0 0 ... 0 0 0]\n",
            " ...\n",
            " [0 0 1 ... 1 0 0]\n",
            " [0 0 1 ... 0 0 0]\n",
            " [0 0 0 ... 0 0 0]]\n",
            "[[0 0 0 ... 0 0 0]\n",
            " [0 0 0 ... 0 0 0]\n",
            " [0 0 0 ... 0 0 0]\n",
            " ...\n",
            " [0 0 1 ... 1 0 0]\n",
            " [0 0 1 ... 0 0 0]\n",
            " [0 0 0 ... 0 0 0]]\n",
            "[[0 0 0 ... 0 0 0]\n",
            " [0 0 0 ... 0 0 0]\n",
            " [0 0 0 ... 0 0 0]\n",
            " ...\n",
            " [0 0 1 ... 1 0 0]\n",
            " [0 0 1 ... 0 0 0]\n",
            " [0 0 0 ... 0 0 0]]\n",
            "[[0 0 0 ... 0 0 0]\n",
            " [0 0 0 ... 0 0 0]\n",
            " [0 0 0 ... 0 0 0]\n",
            " ...\n",
            " [0 0 1 ... 1 0 0]\n",
            " [0 0 1 ... 1 0 0]\n",
            " [0 0 0 ... 0 0 0]]\n",
            "[[0 0 0 ... 0 0 0]\n",
            " [0 0 0 ... 0 0 0]\n",
            " [0 0 0 ... 0 0 0]\n",
            " ...\n",
            " [0 0 1 ... 1 1 0]\n",
            " [0 0 1 ... 1 0 0]\n",
            " [0 0 0 ... 0 0 0]]\n",
            "[[0 0 0 ... 0 0 0]\n",
            " [0 0 0 ... 0 0 0]\n",
            " [0 0 0 ... 0 0 0]\n",
            " ...\n",
            " [0 0 1 ... 0 1 0]\n",
            " [0 0 1 ... 1 1 0]\n",
            " [0 0 0 ... 0 0 0]]\n",
            "[[0 0 0 ... 0 0 0]\n",
            " [0 0 0 ... 0 0 0]\n",
            " [0 0 0 ... 0 0 0]\n",
            " ...\n",
            " [0 0 1 ... 0 1 0]\n",
            " [0 0 1 ... 1 1 0]\n",
            " [0 0 0 ... 0 0 0]]\n",
            "[[0 0 0 ... 0 0 0]\n",
            " [0 0 0 ... 0 0 0]\n",
            " [0 0 0 ... 0 0 0]\n",
            " ...\n",
            " [0 0 1 ... 0 1 0]\n",
            " [0 0 1 ... 1 1 0]\n",
            " [0 0 0 ... 0 0 0]]\n",
            "[[0 0 0 ... 0 0 0]\n",
            " [0 0 0 ... 0 0 0]\n",
            " [0 0 0 ... 0 0 0]\n",
            " ...\n",
            " [0 0 1 ... 1 1 0]\n",
            " [0 0 1 ... 1 1 0]\n",
            " [0 0 0 ... 0 0 0]]\n",
            "[[0 0 0 ... 0 0 0]\n",
            " [0 0 0 ... 0 0 0]\n",
            " [0 0 0 ... 0 0 0]\n",
            " ...\n",
            " [0 0 1 ... 1 1 0]\n",
            " [0 0 1 ... 1 1 0]\n",
            " [0 0 0 ... 0 0 0]]\n",
            "[[0 0 0 ... 0 0 0]\n",
            " [0 0 0 ... 0 0 0]\n",
            " [0 0 0 ... 0 0 0]\n",
            " ...\n",
            " [0 0 1 ... 0 1 0]\n",
            " [0 0 1 ... 0 1 0]\n",
            " [0 0 0 ... 0 0 0]]\n",
            "[[0 0 0 ... 0 0 0]\n",
            " [0 0 0 ... 0 0 0]\n",
            " [0 0 0 ... 0 0 0]\n",
            " ...\n",
            " [0 0 1 ... 1 1 0]\n",
            " [0 0 1 ... 0 0 0]\n",
            " [0 0 0 ... 0 0 0]]\n",
            "[[0 0 0 ... 0 0 0]\n",
            " [0 0 0 ... 0 0 0]\n",
            " [0 0 0 ... 0 0 0]\n",
            " ...\n",
            " [0 0 1 ... 1 0 0]\n",
            " [0 0 1 ... 0 0 0]\n",
            " [0 0 0 ... 0 0 0]]\n",
            "[[0 0 0 ... 0 0 0]\n",
            " [0 0 0 ... 0 0 0]\n",
            " [0 0 0 ... 0 0 0]\n",
            " ...\n",
            " [0 0 1 ... 1 0 0]\n",
            " [0 0 1 ... 0 0 0]\n",
            " [0 0 0 ... 0 0 0]]\n",
            "[[0 0 0 ... 0 0 0]\n",
            " [0 0 0 ... 0 0 0]\n",
            " [0 0 0 ... 0 0 0]\n",
            " ...\n",
            " [0 0 1 ... 1 0 0]\n",
            " [0 0 1 ... 0 0 0]\n",
            " [0 0 0 ... 0 0 0]]\n",
            "[[0 0 0 ... 0 0 0]\n",
            " [0 0 0 ... 0 0 0]\n",
            " [0 0 0 ... 1 0 0]\n",
            " ...\n",
            " [0 0 1 ... 1 0 0]\n",
            " [0 0 1 ... 0 0 0]\n",
            " [0 0 0 ... 0 0 0]]\n",
            "[[0 0 0 ... 0 0 0]\n",
            " [0 0 0 ... 0 0 0]\n",
            " [0 0 0 ... 1 0 0]\n",
            " ...\n",
            " [0 0 1 ... 1 0 0]\n",
            " [0 0 1 ... 0 0 0]\n",
            " [0 0 0 ... 0 0 0]]\n",
            "[[0 0 0 ... 0 0 0]\n",
            " [0 0 0 ... 0 0 0]\n",
            " [0 0 0 ... 1 0 0]\n",
            " ...\n",
            " [0 0 1 ... 1 0 0]\n",
            " [0 0 1 ... 0 0 0]\n",
            " [0 0 0 ... 0 0 0]]\n",
            "[[0 0 0 ... 0 0 0]\n",
            " [0 0 0 ... 0 0 0]\n",
            " [0 0 0 ... 1 0 0]\n",
            " ...\n",
            " [0 0 1 ... 1 0 0]\n",
            " [0 0 1 ... 0 0 0]\n",
            " [0 0 0 ... 0 0 0]]\n",
            "[[0 0 0 ... 0 0 0]\n",
            " [0 0 0 ... 0 0 0]\n",
            " [0 0 0 ... 1 0 0]\n",
            " ...\n",
            " [0 0 1 ... 1 0 0]\n",
            " [0 0 1 ... 0 0 0]\n",
            " [0 0 0 ... 0 0 0]]\n",
            "[[0 0 0 ... 0 0 0]\n",
            " [0 0 0 ... 0 0 0]\n",
            " [0 0 0 ... 1 0 0]\n",
            " ...\n",
            " [0 0 1 ... 1 0 0]\n",
            " [0 0 1 ... 1 0 0]\n",
            " [0 0 0 ... 0 0 0]]\n",
            "[[0 0 0 ... 0 0 0]\n",
            " [0 0 0 ... 0 0 0]\n",
            " [0 0 0 ... 1 0 0]\n",
            " ...\n",
            " [0 0 1 ... 1 1 0]\n",
            " [0 0 1 ... 1 0 0]\n",
            " [0 0 0 ... 0 0 0]]\n",
            "[[0 0 0 ... 0 0 0]\n",
            " [0 0 0 ... 0 0 0]\n",
            " [0 0 0 ... 1 0 0]\n",
            " ...\n",
            " [0 0 1 ... 0 1 0]\n",
            " [0 0 1 ... 1 1 0]\n",
            " [0 0 0 ... 0 0 0]]\n",
            "[[0 0 0 ... 0 0 0]\n",
            " [0 0 0 ... 0 0 0]\n",
            " [0 0 0 ... 1 0 0]\n",
            " ...\n",
            " [0 0 1 ... 0 1 0]\n",
            " [0 0 1 ... 1 1 0]\n",
            " [0 0 0 ... 0 0 0]]\n",
            "[[0 0 0 ... 0 0 0]\n",
            " [0 0 0 ... 0 0 0]\n",
            " [0 0 0 ... 1 0 0]\n",
            " ...\n",
            " [0 0 1 ... 0 1 0]\n",
            " [0 0 1 ... 1 1 0]\n",
            " [0 0 0 ... 0 0 0]]\n",
            "[[0 0 0 ... 0 0 0]\n",
            " [0 0 0 ... 0 0 0]\n",
            " [0 0 0 ... 1 0 0]\n",
            " ...\n",
            " [0 0 1 ... 1 1 0]\n",
            " [0 0 1 ... 1 1 0]\n",
            " [0 0 0 ... 0 0 0]]\n",
            "[[0 0 0 ... 0 0 0]\n",
            " [0 0 0 ... 0 0 0]\n",
            " [0 0 0 ... 1 0 0]\n",
            " ...\n",
            " [0 0 1 ... 1 1 0]\n",
            " [0 0 1 ... 1 1 0]\n",
            " [0 0 0 ... 0 0 0]]\n",
            "[[0 0 0 ... 0 0 0]\n",
            " [0 0 0 ... 1 0 0]\n",
            " [0 0 0 ... 1 0 0]\n",
            " ...\n",
            " [0 0 0 ... 1 1 0]\n",
            " [0 0 1 ... 1 1 0]\n",
            " [0 0 0 ... 0 0 0]]\n",
            "[[0 0 0 ... 0 0 0]\n",
            " [0 0 0 ... 1 0 0]\n",
            " [0 0 0 ... 1 1 0]\n",
            " ...\n",
            " [0 0 1 ... 1 1 0]\n",
            " [0 0 0 ... 1 1 0]\n",
            " [0 0 0 ... 0 0 0]]\n",
            "[[0 0 0 ... 0 0 0]\n",
            " [0 0 0 ... 1 1 0]\n",
            " [0 0 0 ... 0 0 0]\n",
            " ...\n",
            " [0 0 0 ... 1 1 0]\n",
            " [0 0 0 ... 1 1 0]\n",
            " [0 0 0 ... 0 0 0]]\n",
            "[[0 0 0 ... 0 0 0]\n",
            " [0 0 0 ... 0 0 0]\n",
            " [0 0 0 ... 0 0 0]\n",
            " ...\n",
            " [0 0 0 ... 1 1 0]\n",
            " [0 0 0 ... 1 1 0]\n",
            " [0 0 0 ... 0 0 0]]\n",
            "[[0 0 0 ... 0 0 0]\n",
            " [0 0 0 ... 0 0 0]\n",
            " [0 0 0 ... 0 0 0]\n",
            " ...\n",
            " [0 0 0 ... 1 1 0]\n",
            " [0 0 0 ... 1 1 0]\n",
            " [0 0 0 ... 0 0 0]]\n",
            "[[0 0 0 ... 0 0 0]\n",
            " [0 0 0 ... 0 0 0]\n",
            " [0 0 0 ... 0 0 0]\n",
            " ...\n",
            " [0 0 0 ... 1 1 0]\n",
            " [0 0 0 ... 1 1 0]\n",
            " [0 0 0 ... 0 0 0]]\n",
            "[[0 0 0 ... 0 0 0]\n",
            " [0 0 0 ... 0 0 0]\n",
            " [0 0 0 ... 0 0 0]\n",
            " ...\n",
            " [0 0 0 ... 1 1 0]\n",
            " [0 0 0 ... 1 1 0]\n",
            " [0 0 0 ... 0 0 0]]\n",
            "[[0 0 0 ... 0 0 0]\n",
            " [0 0 0 ... 0 0 0]\n",
            " [0 0 0 ... 0 0 0]\n",
            " ...\n",
            " [0 0 0 ... 1 1 0]\n",
            " [0 0 0 ... 1 1 0]\n",
            " [0 0 0 ... 0 0 0]]\n",
            "[[0 0 0 ... 0 0 0]\n",
            " [0 0 0 ... 0 0 0]\n",
            " [0 0 0 ... 0 0 0]\n",
            " ...\n",
            " [0 0 0 ... 1 1 0]\n",
            " [0 0 0 ... 1 1 0]\n",
            " [0 0 0 ... 0 0 0]]\n",
            "[[0 0 0 ... 0 0 0]\n",
            " [0 0 0 ... 0 0 0]\n",
            " [0 0 0 ... 0 0 0]\n",
            " ...\n",
            " [0 0 0 ... 1 1 0]\n",
            " [0 0 0 ... 1 1 0]\n",
            " [0 0 0 ... 0 0 0]]\n",
            "[[0 0 0 ... 0 0 0]\n",
            " [0 0 0 ... 0 0 0]\n",
            " [0 0 0 ... 0 0 0]\n",
            " ...\n",
            " [0 0 0 ... 1 1 0]\n",
            " [0 0 0 ... 1 1 0]\n",
            " [0 0 0 ... 0 0 0]]\n",
            "[[0 0 0 ... 0 0 0]\n",
            " [0 0 0 ... 0 0 0]\n",
            " [0 0 0 ... 0 0 0]\n",
            " ...\n",
            " [0 0 0 ... 1 1 0]\n",
            " [0 0 0 ... 1 1 0]\n",
            " [0 0 0 ... 0 0 0]]\n",
            "[[0 0 0 ... 0 0 0]\n",
            " [0 0 0 ... 0 0 0]\n",
            " [0 0 0 ... 0 0 0]\n",
            " ...\n",
            " [0 0 0 ... 1 1 0]\n",
            " [0 0 0 ... 1 1 0]\n",
            " [0 0 0 ... 0 0 0]]\n",
            "[[0 0 0 ... 0 0 0]\n",
            " [0 0 0 ... 0 0 0]\n",
            " [0 0 0 ... 0 0 0]\n",
            " ...\n",
            " [0 0 0 ... 1 1 0]\n",
            " [0 0 0 ... 1 1 0]\n",
            " [0 0 0 ... 0 0 0]]\n",
            "[[0 0 0 ... 0 0 0]\n",
            " [0 0 0 ... 0 0 0]\n",
            " [0 0 0 ... 0 0 0]\n",
            " ...\n",
            " [0 0 0 ... 1 1 0]\n",
            " [0 0 0 ... 1 1 0]\n",
            " [0 0 0 ... 0 0 0]]\n"
          ],
          "name": "stdout"
        }
      ]
    }
  ]
}